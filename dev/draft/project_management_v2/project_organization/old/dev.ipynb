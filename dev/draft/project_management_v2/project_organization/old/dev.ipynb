{
 "cells": [
  {
   "cell_type": "code",
   "execution_count": null,
   "id": "initial_id",
   "metadata": {},
   "outputs": [],
   "source": [
    "from enum import Enum\n",
    "\n",
    "\n",
    "class Group(str, Enum):\n",
    "    a = \"aa\"\n",
    "\n",
    "\n",
    "print(\"a\" in Group.__members__)"
   ]
  },
  {
   "cell_type": "code",
   "execution_count": null,
   "id": "1b15dba0449ad64e",
   "metadata": {},
   "outputs": [],
   "source": [
    "Group.__members__"
   ]
  },
  {
   "cell_type": "code",
   "execution_count": null,
   "id": "645c42247d534b8a",
   "metadata": {},
   "outputs": [],
   "source": [
    "Group(\"a\")"
   ]
  },
  {
   "cell_type": "code",
   "execution_count": null,
   "id": "b1905816790f064e",
   "metadata": {},
   "outputs": [],
   "source": []
  }
 ],
 "metadata": {
  "kernelspec": {
   "display_name": "Python 3",
   "language": "python",
   "name": "python3"
  },
  "language_info": {
   "codemirror_mode": {
    "name": "ipython",
    "version": 2
   },
   "file_extension": ".py",
   "mimetype": "text/x-python",
   "name": "python",
   "nbconvert_exporter": "python",
   "pygments_lexer": "ipython2",
   "version": "2.7.6"
  }
 },
 "nbformat": 4,
 "nbformat_minor": 5
}
