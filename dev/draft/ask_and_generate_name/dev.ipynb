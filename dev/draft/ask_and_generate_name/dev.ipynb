{
 "cells": [
  {
   "cell_type": "code",
   "execution_count": null,
   "metadata": {},
   "outputs": [],
   "source": [
    "print(1)"
   ]
  },
  {
   "cell_type": "code",
   "execution_count": null,
   "metadata": {},
   "outputs": [],
   "source": [
    "# idea:\n",
    "# try import calmlib\n",
    "# find some way to set up the api key universally\n",
    "# idea: put at ~/.env\n",
    "# asd"
   ]
  },
  {
   "cell_type": "code",
   "execution_count": null,
   "metadata": {},
   "outputs": [],
   "source": [
    "from calmlib.utils.gpt_utils import query_gpt"
   ]
  },
  {
   "cell_type": "code",
   "execution_count": null,
   "metadata": {},
   "outputs": [],
   "source": [
    "# from dotenv import load_dotenv\n",
    "# from pathlib import Path\n",
    "\n",
    "# p = Path('~/.env').expanduser()\n",
    "# load_dotenv(p)"
   ]
  },
  {
   "cell_type": "code",
   "execution_count": null,
   "metadata": {},
   "outputs": [],
   "source": [
    "query_gpt(\"What is the capital of France?\", system=\"You are a helpful assistant.\")"
   ]
  },
  {
   "cell_type": "code",
   "execution_count": null,
   "metadata": {},
   "outputs": [],
   "source": []
  },
  {
   "cell_type": "code",
   "execution_count": null,
   "metadata": {},
   "outputs": [],
   "source": [
    "from loguru import logger\n",
    "\n",
    "\n",
    "def call_if_name_missing(name=None):\n",
    "    # step 1: ask user \"what do you want to do\"\n",
    "    if name is None:\n",
    "        name = input(\"what do you want to do\")\n",
    "\n",
    "    # step 2: ask user \"what is your name\"\n",
    "    # check if that is a good name for the project\n",
    "    system_message = \"\"\"\n",
    "You're project name generator assistant.\n",
    "You're given a description of a project from user.\n",
    "If the description is actually already fits as a name, just return it.\n",
    "Otherwise, generate a new name for the project.\n",
    "\n",
    "1) if possible try to keep the original name, but if it's not good, generate a new one\n",
    "2) maximum 3 words in the name\n",
    "3) style: lowercase, with dashes, no spaces\n",
    "example: \"download all telegram messages\" -> \"load-telegram-messages\"\n",
    "\"\"\"\n",
    "\n",
    "    from pydantic import BaseModel, Field\n",
    "\n",
    "    class ProjectName(BaseModel):\n",
    "        is_good_name: bool = Field(\n",
    "            description=\"Whether the provided description is already a good name for the project\"\n",
    "        )\n",
    "        name: str = Field(description=\"The name of the project\")\n",
    "        num_words: int = Field(description=\"The number of words in the name\")\n",
    "\n",
    "    query = f\"Project description: {name}, current length: {len(name.split(' '))}\"\n",
    "    # structured output\n",
    "    response = query_gpt(\n",
    "        name,\n",
    "        system=system_message,\n",
    "        structured_output_schema=ProjectName,\n",
    "    )\n",
    "\n",
    "    if response.is_good_name:\n",
    "        # format user response to lowercase and with dashes\n",
    "        name = name.lower().replace(\" \", \"-\")\n",
    "        logger.info(f\"The provided description is already a good name for the project: {name}\")\n",
    "        logger.debug(\"GPT response: \", str(response.model_dump_json()))\n",
    "        return name\n",
    "    else:\n",
    "        logger.info(f\"The provided description is not a good name for the project: {name}\")\n",
    "        logger.debug(\"GPT response: \", str(response.model_dump_json()))\n",
    "        return response.name\n",
    "\n",
    "\n",
    "res = call_if_name_missing(name=\"Download all telegram messages\")"
   ]
  },
  {
   "cell_type": "code",
   "execution_count": null,
   "metadata": {},
   "outputs": [],
   "source": [
    "res"
   ]
  },
  {
   "cell_type": "code",
   "execution_count": null,
   "metadata": {},
   "outputs": [],
   "source": [
    "response"
   ]
  },
  {
   "cell_type": "code",
   "execution_count": null,
   "metadata": {},
   "outputs": [],
   "source": []
  },
  {
   "cell_type": "code",
   "execution_count": null,
   "metadata": {},
   "outputs": [],
   "source": []
  },
  {
   "cell_type": "code",
   "execution_count": null,
   "metadata": {},
   "outputs": [],
   "source": []
  },
  {
   "cell_type": "code",
   "execution_count": null,
   "metadata": {},
   "outputs": [],
   "source": []
  }
 ],
 "metadata": {
  "kernelspec": {
   "display_name": ".venv",
   "language": "python",
   "name": "python3"
  },
  "language_info": {
   "codemirror_mode": {
    "name": "ipython",
    "version": 3
   },
   "file_extension": ".py",
   "mimetype": "text/x-python",
   "name": "python",
   "nbconvert_exporter": "python",
   "pygments_lexer": "ipython3",
   "version": "3.11.10"
  }
 },
 "nbformat": 4,
 "nbformat_minor": 2
}
