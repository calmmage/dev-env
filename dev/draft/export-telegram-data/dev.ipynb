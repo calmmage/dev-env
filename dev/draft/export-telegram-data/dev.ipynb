{
 "cells": [
  {
   "cell_type": "code",
   "execution_count": 1,
   "id": "initial_id",
   "metadata": {
    "collapsed": true
   },
   "outputs": [
    {
     "name": "stdout",
     "output_type": "stream",
     "text": [
      "1\n"
     ]
    }
   ],
   "source": [
    "# Try to load data from ... using ... \n",
    "\n",
    "# pyrogram or ... \n",
    "print(1)"
   ]
  },
  {
   "cell_type": "code",
   "execution_count": 2,
   "id": "2c3c784020ad3511",
   "metadata": {
    "ExecuteTime": {
     "end_time": "2024-10-23T11:15:16.760541Z",
     "start_time": "2024-10-23T11:15:15.587155Z"
    }
   },
   "outputs": [
    {
     "name": "stderr",
     "output_type": "stream",
     "text": [
      "TgCrypto is missing! Pyrogram will work the same, but at a much slower speed. More info: https://docs.pyrogram.org/topics/speedups\n"
     ]
    }
   ],
   "source": []
  },
  {
   "cell_type": "code",
   "execution_count": 1,
   "id": "7fc5a2951cf9dbec",
   "metadata": {},
   "outputs": [],
   "source": [
    "# We have data! \n",
    "# load all messages\n",
    "import json\n",
    "from pathlib import Path\n",
    "\n",
    "target_dir_path = Path(\"/Users/petrlavrov/work/projects/dev-env/dev/draft/export-telegram-data\") / \"data\"\n",
    "\n",
    "messages = [json.loads(f.read_text()) for f in target_dir_path.glob(\"*.json\")]"
   ]
  },
  {
   "cell_type": "code",
   "execution_count": 15,
   "id": "5b39f8e7",
   "metadata": {},
   "outputs": [],
   "source": [
    "# filter out messages not in the thread\n",
    "thread_id = 977\n",
    "\n",
    "selected_messages_1 = []\n",
    "selected_messages_2 = []\n",
    "people_1 = set()\n",
    "people_2 = set()\n",
    "for m in messages:\n",
    "\n",
    "    if \"reply_to_message_id\" not in m:\n",
    "        continue\n",
    "\n",
    "    t1 = m.get(\"reply_to_message_id\")\n",
    "    t2 = m.get(\"reply_to_top_message_id\")\n",
    "\n",
    "    if t1 == thread_id:\n",
    "        selected_messages_1.append(m)\n",
    "        people_1.add(m['from_user']['id'])\n",
    "    elif t2 == thread_id:\n",
    "        selected_messages_2.append(m)\n",
    "        people_2.add(m['from_user']['id'])\n",
    "\n",
    "    "
   ]
  },
  {
   "cell_type": "code",
   "execution_count": 18,
   "id": "9046059f",
   "metadata": {},
   "outputs": [
    {
     "name": "stdout",
     "output_type": "stream",
     "text": [
      "selected_messages_1 124\n",
      "selected_messages_2 108\n",
      "people_1 105\n",
      "people_2 47\n"
     ]
    }
   ],
   "source": [
    "print(\"selected_messages_1\", len(selected_messages_1))\n",
    "print(\"selected_messages_2\", len(selected_messages_2))\n",
    "\n",
    "print(\"people_1\", len(people_1))\n",
    "print(\"people_2\", len(people_2))"
   ]
  },
  {
   "cell_type": "code",
   "execution_count": 8,
   "id": "5e215aaf",
   "metadata": {},
   "outputs": [
    {
     "data": {
      "text/plain": [
       "124"
      ]
     },
     "execution_count": 8,
     "metadata": {},
     "output_type": "execute_result"
    }
   ],
   "source": [
    "len(messages_2)"
   ]
  },
  {
   "cell_type": "code",
   "execution_count": 6,
   "id": "6ee1e820",
   "metadata": {},
   "outputs": [
    {
     "data": {
      "text/plain": [
       "1093"
      ]
     },
     "execution_count": 6,
     "metadata": {},
     "output_type": "execute_result"
    }
   ],
   "source": [
    "len(messages)"
   ]
  },
  {
   "cell_type": "code",
   "execution_count": null,
   "id": "21144abd",
   "metadata": {},
   "outputs": [],
   "source": []
  },
  {
   "cell_type": "markdown",
   "id": "822af4fe",
   "metadata": {},
   "source": [
    "# Step number 2:\n",
    "# actually load all messages from the thread\n",
    "\n",
    "# idea 1: is there a way to do so in pyrogram?\n",
    "# need examples\n",
    "# idea 1.1: look at ... docs\n",
    "# idea 1.2: just donwload\n",
    "# idea 1.3: can we donwload in bulk?\n",
    "# idea 1.4: just look for examples"
   ]
  }
 ],
 "metadata": {
  "kernelspec": {
   "display_name": "Python 3",
   "language": "python",
   "name": "python3"
  },
  "language_info": {
   "codemirror_mode": {
    "name": "ipython",
    "version": 3
   },
   "file_extension": ".py",
   "mimetype": "text/x-python",
   "name": "python",
   "nbconvert_exporter": "python",
   "pygments_lexer": "ipython3",
   "version": "3.11.10"
  }
 },
 "nbformat": 4,
 "nbformat_minor": 5
}
